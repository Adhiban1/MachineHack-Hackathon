{
 "cells": [
  {
   "cell_type": "code",
   "execution_count": 1,
   "id": "beb77623",
   "metadata": {},
   "outputs": [],
   "source": [
    "from zipfile import ZipFile\n",
    "import os\n",
    "import re\n",
    "import pandas as pd\n",
    "from sklearn.model_selection import train_test_split\n",
    "from sklearn.linear_model import LinearRegression\n",
    "from sklearn.ensemble import AdaBoostRegressor\n",
    "from sklearn.metrics import mean_squared_error\n",
    "from sklearn.preprocessing import StandardScaler"
   ]
  },
  {
   "cell_type": "code",
   "execution_count": 15,
   "id": "a6430a5d",
   "metadata": {},
   "outputs": [],
   "source": [
    "def leaderboard():\n",
    "    with open('leaderboard.txt') as f:\n",
    "        data = f.read()\n",
    "    data = re.findall('[\\d]+\\.([\\d]+.[\\d]+)', data)\n",
    "    return [float(i[5:]) for i in data]"
   ]
  },
  {
   "cell_type": "code",
   "execution_count": 3,
   "id": "7f7f0303",
   "metadata": {},
   "outputs": [],
   "source": [
    "if not os.path.exists('dataset'):\n",
    "    with ZipFile('Participants_Data_GGSH_Solution_Notebook.zip') as f:\n",
    "        f.extractall('dataset')"
   ]
  },
  {
   "cell_type": "code",
   "execution_count": 4,
   "id": "5da0932c",
   "metadata": {},
   "outputs": [],
   "source": [
    "train = pd.read_csv('dataset/India_train.csv')\n",
    "test = pd.read_csv('dataset/India_test.csv')\n",
    "submission = pd.read_csv('dataset/submission.csv')"
   ]
  },
  {
   "cell_type": "code",
   "execution_count": 5,
   "id": "34c87722",
   "metadata": {},
   "outputs": [
    {
     "name": "stdout",
     "output_type": "stream",
     "text": [
      "Train columns: \n",
      "  1. Year | int64\n",
      "  2. State Name | object\n",
      "  3. Dist Name | object\n",
      "  4. COTTON AREA (1000 ha) | float64\n",
      "  5. COTTON PRODUCTION (1000 tons) | float64\n",
      "  6. COTTON YIELD (Kg per ha) | int64\n",
      "  7. JANUARY PERCIPITATION (Millimeters) | float64\n",
      "  8. FEBRUARY PERCIPITATION (Millimeters) | float64\n",
      "  9. MARCH PERCIPITATION (Millimeters) | float64\n",
      " 10. APRIL PERCIPITATION (Millimeters) | float64\n",
      " 11. MAY PERCIPITATION (Millimeters) | float64\n",
      " 12. JUNE PERCIPITATION (Millimeters) | float64\n",
      " 13. JULY PERCIPITATION (Millimeters) | float64\n",
      " 14. AUGUST PERCIPITATION (Millimeters) | float64\n",
      " 15. SEPTEMBER PERCIPITATION (Millimeters) | float64\n",
      " 16. OCTOBER PERCIPITATION (Millimeters) | float64\n",
      " 17. NOVEMBER PERCIPITATION (Millimeters) | float64\n",
      " 18. DECEMBER PERCIPITATION (Millimeters) | float64\n",
      " 19. JANUARY MINIMUM (Centigrate) | float64\n",
      " 20. FEBRUARY MINIMUM (Centigrate) | float64\n",
      " 21. MARCH MINIMUM (Centigrate) | float64\n",
      " 22. APRIL MINIMUM (Centigrate) | float64\n",
      " 23. MAY MINIMUM (Centigrate) | float64\n",
      " 24. JUNE MINIMUM (Centigrate) | float64\n",
      " 25. JULY MINIMUM (Centigrate) | float64\n",
      " 26. AUGUST MINIMUM (Centigrate) | float64\n",
      " 27. SEPTEMBER MINIMUM (Centigrate) | float64\n",
      " 28. OCTOBER MINIMUM (Centigrate) | float64\n",
      " 29. NOVEMBER MINIMUM (Centigrate) | float64\n",
      " 30. DECEMBER MINIMUM (Centigrate) | float64\n",
      " 31. JANUARY MAXIMUM (Centigrate) | float64\n",
      " 32. FEBRUARY MAXIMUM (Centigrate) | float64\n",
      " 33. MARCH MAXIMUM (Centigrate) | float64\n",
      " 34. APRIL MAXIMUM (Centigrate) | float64\n",
      " 35. MAY MAXIMUM (Centigrate) | float64\n",
      " 36. JUNE MAXIMUM (Centigrate) | float64\n",
      " 37. JULY MAXIMUM (Centigrate) | float64\n",
      " 38. AUGUST MAXIMUM (Centigrate) | float64\n",
      " 39. SEPTEMBER MAXIMUM (Centigrate) | float64\n",
      " 40. OCTOBER MAXIMUM (Centigrate) | float64\n",
      " 41. NOVEMBER MAXIMUM (Centigrate) | float64\n",
      " 42. DECEMBER MAXIMUM (Centigrate) | float64\n",
      " 43. JANUARY WATER DEFICIT (Millimeters) | float64\n",
      " 44. FEBRUARY WATER DEFICIT (Millimeters) | float64\n",
      " 45. MARCH WATER DEFICIT (Millimeters) | float64\n",
      " 46. APRIL WATER DEFICIT (Millimeters) | float64\n",
      " 47. MAY WATER DEFICIT (Millimeters) | float64\n",
      " 48. JUNE WATER DEFICIT (Millimeters) | float64\n",
      " 49. JULY WATER DEFICIT (Millimeters) | float64\n",
      " 50. AUGUST WATER DEFICIT (Millimeters) | float64\n",
      " 51. OCTOBER WATER DEFICIT (Millimeters) | float64\n",
      " 52. NOVEMBER WATER DEFICIT (Millimeters) | float64\n",
      " 53. DECEMBER WATER DEFICIT (Millimeters) | float64\n",
      " 54. JANUARY ACTUAL (Millimeters) | float64\n",
      " 55. FEBRUARY ACTUAL (Millimeters) | float64\n",
      " 56. MARCH ACTUAL (Millimeters) | float64\n",
      " 57. APRIL ACTUAL (Millimeters) | float64\n",
      " 58. MAY ACTUAL (Millimeters) | float64\n",
      " 59. JUNE ACTUAL (Millimeters) | float64\n",
      " 60. JULY ACTUAL (Millimeters) | float64\n",
      " 61. AUGUST ACTUAL (Millimeters) | float64\n",
      " 62. SEPTEMBER ACTUAL (Millimeters) | float64\n",
      " 63. OCTOBER ACTUAL (Millimeters) | float64\n",
      " 64. NOVEMBER ACTUAL (Millimeters) | float64\n",
      " 65. DECEMBER ACTUAL (Millimeters) | float64\n",
      " 66. JANUARY POTENTIAL (Millimeters) | float64\n",
      " 67. FEBRUARY POTENTIAL (Millimeters) | float64\n",
      " 68. MARCH POTENTIAL (Millimeters) | float64\n",
      " 69. APRIL POTENTIAL (Millimeters) | float64\n",
      " 70. MAY POTENTIAL (Millimeters) | float64\n",
      " 71. JUNE POTENTIAL (Millimeters) | float64\n",
      " 72. JULY POTENTIAL (Millimeters) | float64\n",
      " 73. AUGUST POTENTIAL (Millimeters) | float64\n",
      " 74. SEPTEMBER POTENTIAL (Millimeters) | float64\n",
      " 75. OCTOBER POTENTIAL (Millimeters) | float64\n",
      " 76. NOVEMBER POTENTIAL (Millimeters) | float64\n",
      " 77. DECEMBER POTENTIAL (Millimeters) | float64\n",
      " 78. TOTAL AREA (1000 ha) | float64\n",
      " 79. FOREST AREA (1000 ha) | float64\n",
      " 80. BARREN AND UNCULTIVABLE LAND AREA (1000 ha) | float64\n",
      " 81. LAND PUT TO NONAGRICULTURAL USE AREA (1000 ha) | float64\n",
      " 82. CULTIVABLE WASTE LAND AREA (1000 ha) | float64\n",
      " 83. PERMANENT PASTURES AREA (1000 ha) | float64\n",
      " 84. OTHER FALLOW AREA (1000 ha) | float64\n",
      " 85. CURRENT FALLOW AREA (1000 ha) | float64\n",
      " 86. NET CROPPED AREA (1000 ha) | float64\n",
      " 87. GROSS CROPPED AREA (1000 ha) | float64\n",
      " 88. CROPING INTENSITY (Percent) | float64\n",
      " 89. NITROGEN CONSUMPTION (tons) | float64\n",
      " 90. NITROGEN SHARE IN NPK (Percent) | float64\n",
      " 91. NITROGEN PER HA OF NCA (Kg per ha) | float64\n",
      " 92. NITROGEN PER HA OF GCA (Kg per ha) | float64\n",
      " 93. PHOSPHATE CONSUMPTION (tons) | float64\n",
      " 94. PHOSPHATE SHARE IN NPK (Percent) | float64\n",
      " 95. PHOSPHATE PER HA OF NCA (Kg per ha) | float64\n",
      " 96. PHOSPHATE PER HA OF GCA (Kg per ha) | float64\n",
      " 97. POTASH CONSUMPTION (tons) | float64\n",
      " 98. POTASH SHARE IN NPK (Percent) | float64\n",
      " 99. POTASH PER HA OF NCA (Kg per ha) | float64\n",
      "100. POTASH PER HA OF GCA (Kg per ha) | float64\n",
      "101. TOTAL CONSUMPTION (tons) | float64\n",
      "102. TOTAL PER HA OF NCA (Kg per ha) | float64\n",
      "103. TOTAL PER HA OF GCA (Kg per ha) | float64\n"
     ]
    }
   ],
   "source": [
    "print('Train columns: ')\n",
    "for i,j in enumerate(train.columns):\n",
    "    print(f\"{i+1:>3}. {j} | {train[j].dtype}\")"
   ]
  },
  {
   "cell_type": "code",
   "execution_count": 6,
   "id": "97e3e016",
   "metadata": {},
   "outputs": [
    {
     "name": "stdout",
     "output_type": "stream",
     "text": [
      "\n",
      "To Predict columns: \n",
      "1. Yield (Pounds/ Harvested Area) ❌\n",
      "2. COTTON YIELD (Kg per ha) ✅\n",
      "3. Cotton_Price[Dollar/ton] ❌\n"
     ]
    }
   ],
   "source": [
    "print('\\nTo Predict columns: ')\n",
    "for i, j in enumerate(submission.columns):\n",
    "    print(f\"{i+1}. {j}\", end='')\n",
    "    if j in train.columns:\n",
    "        print(' ✅')\n",
    "        y_column = j\n",
    "    else:\n",
    "        print(' ❌')"
   ]
  },
  {
   "cell_type": "code",
   "execution_count": 7,
   "id": "c0c77aaf",
   "metadata": {},
   "outputs": [
    {
     "name": "stdout",
     "output_type": "stream",
     "text": [
      "\n",
      "any(train.columns == test.columns) = True\n"
     ]
    }
   ],
   "source": [
    "print(f'\\n{any(train.columns == test.columns) = }')"
   ]
  },
  {
   "cell_type": "code",
   "execution_count": 8,
   "id": "f965f3f8",
   "metadata": {},
   "outputs": [],
   "source": [
    "train1 = train.select_dtypes(['int64', 'float64'])\n",
    "test1 = test.select_dtypes(['int64', 'float64'])"
   ]
  },
  {
   "cell_type": "code",
   "execution_count": 9,
   "id": "78d611e0",
   "metadata": {},
   "outputs": [],
   "source": [
    "for i in train1.columns:\n",
    "    train1[i] = train1[i].fillna(train1[i].mean())\n",
    "    test1[i] = test1[i].fillna(test1[i].mean())"
   ]
  },
  {
   "cell_type": "code",
   "execution_count": 10,
   "id": "8993c611",
   "metadata": {},
   "outputs": [],
   "source": [
    "x_train, y_train, x_test, y_test = (train1.drop(y_column, axis=1), train1[y_column],\n",
    "                                    test1.drop(y_column, axis=1), test1[y_column])"
   ]
  },
  {
   "cell_type": "code",
   "execution_count": 11,
   "id": "2597d4f8",
   "metadata": {},
   "outputs": [],
   "source": [
    "x_scaler = StandardScaler()\n",
    "x_train = x_scaler.fit_transform(x_train)\n",
    "x_test = x_scaler.transform(x_test)"
   ]
  },
  {
   "cell_type": "code",
   "execution_count": 25,
   "id": "d1aafb29",
   "metadata": {},
   "outputs": [
    {
     "name": "stdout",
     "output_type": "stream",
     "text": [
      "\n",
      "Score: 0.0\n"
     ]
    }
   ],
   "source": [
    "model = LinearRegression()\n",
    "model.fit(x_train, y_train)\n",
    "score = model.score(x_test, y_test)\n",
    "print(f'\\nScore: {score}')"
   ]
  },
  {
   "cell_type": "code",
   "execution_count": 26,
   "id": "8244f4e6",
   "metadata": {},
   "outputs": [
    {
     "name": "stdout",
     "output_type": "stream",
     "text": [
      "MSE: 18085839.986804508 | (mse < 13147049.32475) = False\n"
     ]
    }
   ],
   "source": [
    "mse = mean_squared_error(y_test, model.predict(x_test))\n",
    "print(f'MSE: {mse} | {(mse < 13147049.32475) = }')"
   ]
  },
  {
   "cell_type": "code",
   "execution_count": 31,
   "id": "9425ed98",
   "metadata": {},
   "outputs": [
    {
     "name": "stdout",
     "output_type": "stream",
     "text": [
      "Rank: 3\n",
      "MSE: 18,085,839.98680 | Leaderboard: 22,205,271.40202\n"
     ]
    }
   ],
   "source": [
    "# I know this does'nt give correct Rank\n",
    "for i, j in enumerate(leaderboard()):\n",
    "    if mse < j:\n",
    "        print(f'Rank: {i+1}')\n",
    "        print(f'MSE: {mse:,.5f} | Leaderboard: {j:,}')\n",
    "        break\n",
    "else:\n",
    "    print('High MSE')"
   ]
  },
  {
   "cell_type": "code",
   "execution_count": null,
   "id": "d5bf59d3",
   "metadata": {},
   "outputs": [],
   "source": []
  }
 ],
 "metadata": {
  "kernelspec": {
   "display_name": "Python 3 (ipykernel)",
   "language": "python",
   "name": "python3"
  },
  "language_info": {
   "codemirror_mode": {
    "name": "ipython",
    "version": 3
   },
   "file_extension": ".py",
   "mimetype": "text/x-python",
   "name": "python",
   "nbconvert_exporter": "python",
   "pygments_lexer": "ipython3",
   "version": "3.10.9"
  }
 },
 "nbformat": 4,
 "nbformat_minor": 5
}
